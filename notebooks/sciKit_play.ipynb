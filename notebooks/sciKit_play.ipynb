{
 "cells": [
  {
   "cell_type": "code",
   "execution_count": null,
   "metadata": {},
   "outputs": [],
   "source": [
    "# Get the data \n",
    "import requests \n",
    "import json\n",
    "from os import environ \n",
    "import yaml\n",
    "from pprint import pprint\n",
    "\n",
    "client_id = \"\"\n",
    "client_secret = \"\"\n",
    "user = \"\"\n",
    "password = \"\"\n",
    "\n",
    "\n",
    "auth = requests.post(\n",
    "    headers={\"Content-Type\": \"application/x-www-form-urlencoded\"},\n",
    "    auth = (user, password),\n",
    "    url=\"https://prod.trackmania.core.nadeo.online/v2/authentication/token/basic\",\n",
    "    data= {\n",
    "        \"audience\" :\"NadeoServices\"\n",
    "    }\n",
    ")\n",
    "with open(\"../data/config.yaml\",\"r\") as f:\n",
    "    data = yaml.safe_load(f)\n",
    "\n",
    "# Get Medals:\n",
    "    maps = [data['tracks'][x] for x in data['tracks'] ]\n",
    "    print(maps)\n",
    "    # for season in data['tracks']:\n",
    "    #     for map in season:\n",
    "    #         response = requests.get( \n",
    "    #             url = f\"https://prod.trackmania.core.nadeo.online/maps?mapIdList={map['id']}\",\n",
    "    #             headers = {\"Authorization\": f\"nadeo_v1 t={auth}\"})\n",
    "\n",
    "    #         map_data = json.loads(response.content)\n",
    "\n",
    "\n"
   ]
  },
  {
   "cell_type": "code",
   "execution_count": null,
   "metadata": {},
   "outputs": [],
   "source": [
    "from sklearn import "
   ]
  }
 ],
 "metadata": {
  "kernelspec": {
   "display_name": "env",
   "language": "python",
   "name": "python3"
  },
  "language_info": {
   "codemirror_mode": {
    "name": "ipython",
    "version": 3
   },
   "file_extension": ".py",
   "mimetype": "text/x-python",
   "name": "python",
   "nbconvert_exporter": "python",
   "pygments_lexer": "ipython3",
   "version": "3.9.6"
  }
 },
 "nbformat": 4,
 "nbformat_minor": 2
}
