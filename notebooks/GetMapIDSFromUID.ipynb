{
 "cells": [
  {
   "cell_type": "markdown",
   "metadata": {},
   "source": [
    "# Find the MapID's for a specific non official campaign"
   ]
  },
  {
   "cell_type": "code",
   "execution_count": null,
   "metadata": {},
   "outputs": [],
   "source": [
    "# JSON of MAPUID's taken from the clubCampaign respsonse for micro maps \n",
    "# See `searcForThings`\n",
    "import json\n",
    "import requests\n",
    "from pprint import pprint\n",
    "import yaml\n",
    "\n",
    "maps_raw= '[{\"id\": 725070,\"mapUid\": \"HGSCrK2nwP2Eh832FcLchg2mlb1\",\"position\": 0}, {\"id\": 725071,\"mapUid\": \"xilvEhY102bUWPfViuA5L3R2Kkf\",\"position\": 1}, {\"id\": 725072,\"mapUid\": \"8GlfeTOKo8a6nR4Odck6hkR1QZj\",\"position\": 2}, {\"id\": 725073,\"mapUid\": \"Bm8fJqCkEQ5mcGpGGKrii14wUqk\",\"position\": 3}, {\"id\": 725074,\"mapUid\": \"IhErO1M1iVnixXq3NApG0RcDcnh\",\"position\": 4}, {\"id\": 725075,\"mapUid\": \"61Cb4gy3SfeyBKw_j7Se_dyTBQ5\",\"position\": 5}, {\"id\": 725092,\"mapUid\": \"XezcEHaLwsg_fnoLjEFNznnDpw4\",\"position\": 6}, {\"id\": 725076,\"mapUid\": \"7S_oNjIByPmiGntUVZMELyZ14P3\",\"position\": 7}, {\"id\": 725077,\"mapUid\": \"Q471TU01FyT9VV1FdjGXtfretZk\",\"position\": 8}, {\"id\": 725078,\"mapUid\": \"JaUjuuasJ8RL4gyrMhig4uEwBPa\",\"position\": 9}, {\"id\": 725079,\"mapUid\": \"VKOlGdlgC7OgToUFIao5co59EH1\",\"position\": 10}, {\"id\": 725080,\"mapUid\": \"o3D8x7IWMKVgTzhsiyjqmGgbzN3\",\"position\": 11}, {\"id\": 725081,\"mapUid\": \"ckjTde14KsIc2cHxGlXK75AgQOb\",\"position\": 12}, {\"id\": 725093,\"mapUid\": \"iZCoRIkKAc14rTJRCBjrV6vDBkf\",\"position\": 13}, {\"id\": 725082,\"mapUid\": \"Du_OOTkcbUalZmS7s79ZUkikVF6\",\"position\": 14}, {\"id\": 725083,\"mapUid\": \"bWVms5_bPiwl3H3bNYl07LvM4J6\",\"position\": 15}, {\"id\": 725084,\"mapUid\": \"3EkrdohP6AJCEzxHJU6uvCQBTec\",\"position\": 16}, {\"id\": 725085,\"mapUid\": \"QRd2bKEn4YKh1UxbOEnKMCuEGO6\",\"position\": 17}, {\"id\": 725086,\"mapUid\": \"IuCucvPFLp52uJZIRqflo3sbYvb\",\"position\": 18}, {\"id\": 725094,\"mapUid\": \"l7IW0BUowKNjYrlGXJyA_KpRPae\",\"position\": 19}, {\"id\": 725087,\"mapUid\": \"PBDgf2SRll910V3uVWNbLTdnPTh\",\"position\": 20}, {\"id\": 725088,\"mapUid\": \"nmMTbUlWA4W1Gu1VkUPBneYC6z2\",\"position\": 21}, {\"id\": 725089,\"mapUid\": \"22YV1ObuEvAlIEpJdc8fBun0lfl\",\"position\": 22}, {\"id\": 725090,\"mapUid\": \"9RGxBYGb8VHrIlFrqlxLUOdYRZ6\",\"position\": 23}, {\"id\": 725091,\"mapUid\": \"tnNJA5BXhWlAhEGjIciOp9DsHWd\",\"position\": 24}]'\n",
    "maps = json.loads(maps_raw)\n",
    "\n",
    "# Get Auth token for CORE \n",
    "user = \"\"\n",
    "password = \"\"\n",
    "response = requests.post(\n",
    "        url=\"https://prod.trackmania.core.nadeo.online/v2/authentication/token/basic\",\n",
    "        headers= {\n",
    "            \"Content-Type\": \"application/json\"\n",
    "        },\n",
    "        auth = (user, password),\n",
    "        json= {\"audience\" : \"NadeoServices\"}\n",
    "\n",
    "    )\n",
    "jwt = json.loads(response.content)\n",
    "access_token = jwt.get('accessToken')\n",
    "\n"
   ]
  },
  {
   "cell_type": "code",
   "execution_count": null,
   "metadata": {},
   "outputs": [],
   "source": [
    "def find_position(uid):\n",
    "    \n"
   ]
  },
  {
   "cell_type": "code",
   "execution_count": null,
   "metadata": {},
   "outputs": [],
   "source": [
    "# Loop ver UID's to return ID's and track numbers \n",
    "\n",
    "uids = [map['mapUid'] for map in maps]\n",
    "map = requests.get(\n",
    "    url = f\"https://prod.trackmania.core.nadeo.online/maps?mapUidList={','.join(uids)}\",\n",
    "    headers = {\"Authorization\": f\"nadeo_v1 t={access_token}\"}\n",
    "    )\n",
    "print(map.status_code)\n",
    "data = json.loads(map.content)\n",
    "\n",
    "tracks = []\n",
    "for track in data: \n",
    "    x = {'name' : track['name'], 'id': ['postion']}\n",
    "    tracks.append(x)\n",
    "#sort = sorted(tracks, key=lambda d : d['name'])\n",
    "print(yaml.dump(tracks,default_flow_style=False))"
   ]
  },
  {
   "cell_type": "code",
   "execution_count": null,
   "metadata": {},
   "outputs": [],
   "source": [
    "zones = requests.get(\n",
    "    url = f\"https://prod.trackmania.core.nadeo.online/zones\",\n",
    "    headers = {\"Authorization\": f\"nadeo_v1 t={access_token}\"}\n",
    "    )\n",
    "data = json.loads(zones.content)\n",
    "\n",
    "pprint(data)"
   ]
  },
  {
   "cell_type": "code",
   "execution_count": null,
   "metadata": {},
   "outputs": [],
   "source": [
    "## oAuth creds to get player names\n",
    "import requests \n",
    "import json\n",
    "TRACK_CLIENT_ID=\"\" \n",
    "TRACK_CLIENT_SECRET=\"\"\n",
    "\n",
    "auth = requests.post(\n",
    "    headers={\"Content-Type\": \"application/x-www-form-urlencoded\"},\n",
    "    url=\"https://api.trackmania.com/api/access_token\",\n",
    "    data= {\"grant_type\":\"client_credentials\", \"client_id\":TRACK_CLIENT_ID,\n",
    "    \"client_secret\":TRACK_CLIENT_SECRET}\n",
    ")\n",
    "access = json.loads(auth.content)['access_token']\n",
    "print(access)\n",
    "\n"
   ]
  },
  {
   "cell_type": "code",
   "execution_count": null,
   "metadata": {},
   "outputs": [],
   "source": [
    "url = \"https://api.trackmania.com/api/display-names?accountId[]=50f95774-52f6-479b-aad3-2d06d1b94e69\"\n",
    "print(url)\n",
    "players = requests.get(\n",
    "        url = url,\n",
    "        headers = {\"Authorization\": f\"Bearer {access}\"}\n",
    "    )\n",
    "\n",
    "print(players.content)"
   ]
  }
 ],
 "metadata": {
  "kernelspec": {
   "display_name": "env",
   "language": "python",
   "name": "python3"
  },
  "language_info": {
   "codemirror_mode": {
    "name": "ipython",
    "version": 3
   },
   "file_extension": ".py",
   "mimetype": "text/x-python",
   "name": "python",
   "nbconvert_exporter": "python",
   "pygments_lexer": "ipython3",
   "version": "3.9.6"
  }
 },
 "nbformat": 4,
 "nbformat_minor": 2
}
