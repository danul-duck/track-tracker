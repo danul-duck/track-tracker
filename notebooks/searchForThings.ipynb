{
 "cells": [
  {
   "cell_type": "code",
   "execution_count": null,
   "metadata": {},
   "outputs": [],
   "source": [
    "import requests \n",
    "import json\n",
    "from os import environ \n",
    "import yaml\n",
    "from pprint import pprint\n",
    "\n",
    "client_id = \"\"\n",
    "client_secret = \"\"\n",
    "user = \"\"\n",
    "password = \"\"\n"
   ]
  },
  {
   "cell_type": "code",
   "execution_count": null,
   "metadata": {},
   "outputs": [],
   "source": [
    "# Get auth token\n",
    "level2_auth = requests.post(\n",
    "    headers={\"Content-Type\": \"application/x-www-form-urlencoded\"},\n",
    "    auth = (user, password),\n",
    "    url=\"https://prod.trackmania.core.nadeo.online/v2/authentication/token/basic\",\n",
    "    data= {\n",
    "        \"audience\" :\"NadeoLiveServices\"\n",
    "    }\n",
    ")\n",
    "access = json.loads(level2_auth.content)['accessToken']"
   ]
  },
  {
   "cell_type": "code",
   "execution_count": null,
   "metadata": {},
   "outputs": [],
   "source": [
    "# Search for clubs -- THIS GOT MICRO WITH level2 auth above\n",
    "from pprint import pprint\n",
    "url = \"https://live-services.trackmania.nadeo.live/api/token/club/campaign?length=20&offset=0\"\n",
    "clubs = requests.get(\n",
    "        url = url,\n",
    "        headers = {\n",
    "            \"Authorization\": f\"nadeo_v1 t={access}\",\n",
    "                \"Accept\":\"application/json\",\n",
    "                }\n",
    " \n",
    "   )\n",
    "data = json.loads(clubs.content)\n",
    "pprint(data)\n",
    "#pprint([ (x['clubName']) for x in data['clubCampaignList'] ])"
   ]
  },
  {
   "cell_type": "code",
   "execution_count": null,
   "metadata": {},
   "outputs": [],
   "source": [
    "basic_auth =  requests.post(\n",
    "        url=\"https://prod.trackmania.core.nadeo.online/v2/authentication/token/basic\",\n",
    "        headers= {\n",
    "            \"Content-Type\": \"application/json\"\n",
    "        },\n",
    "        auth = (user, password),\n",
    "        json= {\"audience\" : \"NadeoServices\"}\n",
    "    )\n",
    "jwt = json.loads(basic_auth.content)\n",
    "access_token = jwt.get('accessToken')\n",
    "\n",
    "response = requests.get(\n",
    "        url = f\"https://prod.trackmania.core.nadeo.online/maps/?mapUIdList=F0b3P7jGDfqzvE7vRofX_FrFgDb?length=100\",\n",
    "        headers = {\"Authorization\": f\"nadeo_v1 t={access_token}\"}\n",
    "    )\n",
    "\n",
    "pprint(response.content)"
   ]
  },
  {
   "cell_type": "code",
   "execution_count": null,
   "metadata": {},
   "outputs": [],
   "source": []
  },
  {
   "cell_type": "code",
   "execution_count": null,
   "metadata": {},
   "outputs": [],
   "source": [
    "mapUid = \"ogMcvvMVRxicSXtfCZtINqcbakc\"\n",
    "\n",
    "response = requests.get(\n",
    "        url = f\"https://live-services.trackmania.nadeo.live/api/token/leaderboard/group/Personal_Best/map/{mapUid}/top?onlyWorld=true&length=5\",\n",
    "        headers = {\"Authorization\": f\"nadeo_v1 t={access}\"}\n",
    "    )\n",
    "pprint(response.content)\n",
    "data = json.loads(response.content)\n",
    "pprint(data['tops'][0]['top'])"
   ]
  },
  {
   "cell_type": "code",
   "execution_count": null,
   "metadata": {},
   "outputs": [],
   "source": [
    "zones = {\n",
    "        \"England\" : \"3022a3c9-7e13-11e8-8060-e284abfd2bc4\",\n",
    "        \"Yorkshire\" : \"3022a92a-7e13-11e8-8060-e284abfd2bc4\",\n",
    "        \"NorthWest\" : \"3022a6c1-7e13-11e8-8060-e284abfd2bc4\",\n",
    "        \"UK\": \"3022a1b2-7e13-11e8-8060-e284abfd2bc4\",\n",
    "        \"Europe\": \"301e2106-7e13-11e8-8060-e284abfd2bc4\"\n",
    "    }\n",
    "\n",
    "for zoneId in zones.values():\n",
    "    print(zoneId)"
   ]
  }
 ],
 "metadata": {
  "kernelspec": {
   "display_name": "env",
   "language": "python",
   "name": "python3"
  },
  "language_info": {
   "codemirror_mode": {
    "name": "ipython",
    "version": 3
   },
   "file_extension": ".py",
   "mimetype": "text/x-python",
   "name": "python",
   "nbconvert_exporter": "python",
   "pygments_lexer": "ipython3",
   "version": "3.9.6"
  }
 },
 "nbformat": 4,
 "nbformat_minor": 2
}
